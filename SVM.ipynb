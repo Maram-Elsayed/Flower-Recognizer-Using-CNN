{
  "nbformat": 4,
  "nbformat_minor": 0,
  "metadata": {
    "colab": {
      "name": "SVM.ipynb",
      "provenance": [],
      "include_colab_link": true
    },
    "kernelspec": {
      "name": "python3",
      "display_name": "Python 3"
    },
    "accelerator": "GPU"
  },
  "cells": [
    {
      "cell_type": "markdown",
      "metadata": {
        "id": "view-in-github",
        "colab_type": "text"
      },
      "source": [
        "<a href=\"https://colab.research.google.com/github/Maram-Elsayed/Flower-Recognizer-in-Python/blob/master/SVM.ipynb\" target=\"_parent\"><img src=\"https://colab.research.google.com/assets/colab-badge.svg\" alt=\"Open In Colab\"/></a>"
      ]
    },
    {
      "cell_type": "code",
      "metadata": {
        "id": "cS7IL0EfzWmR",
        "colab_type": "code",
        "colab": {}
      },
      "source": [
        "!apt-get install -y -qq software-properties-common python-software-properties module-init-tools\n",
        "!add-apt-repository -y ppa:alessandro-strada/ppa 2>&1 > /dev/null\n",
        "!apt-get update -qq 2>&1 > /dev/null\n",
        "!apt-get -y install -qq google-drive-ocamlfuse fuse\n",
        "from google.colab import auth\n",
        "auth.authenticate_user()\n",
        "from oauth2client.client import GoogleCredentials\n",
        "creds = GoogleCredentials.get_application_default()\n",
        "import getpass\n",
        "!google-drive-ocamlfuse -headless -id={creds.client_id} -secret={creds.client_secret} < /dev/null 2>&1 | grep URL\n",
        "vcode = getpass.getpass()\n",
        "!echo {vcode} | google-drive-ocamlfuse -headless -id={creds.client_id} -secret={creds.client_secret}"
      ],
      "execution_count": 0,
      "outputs": []
    },
    {
      "cell_type": "code",
      "metadata": {
        "id": "A05JyCujF6lv",
        "colab_type": "code",
        "colab": {}
      },
      "source": [
        "!mkdir -p drive\n",
        "!google-drive-ocamlfuse drive"
      ],
      "execution_count": 0,
      "outputs": []
    },
    {
      "cell_type": "code",
      "metadata": {
        "id": "3u5AetS4soMJ",
        "colab_type": "code",
        "colab": {}
      },
      "source": [
        "from skimage import feature\n",
        "import numpy as np\n",
        "import PIL\n",
        "import os, os.path\n",
        "import cv2\n",
        "from skimage.feature import local_binary_pattern\n",
        "\n"
      ],
      "execution_count": 0,
      "outputs": []
    },
    {
      "cell_type": "code",
      "metadata": {
        "id": "W_iih5isGT4d",
        "colab_type": "code",
        "colab": {}
      },
      "source": [
        "import random\n",
        "from scipy.stats import itemfreq\n",
        "imageDir_train = [\"drive/Colab/daisy_0/\",\"drive/Colab/dandelion_1/\",\"drive/Colab/rose_2/\",\"drive/Colab/sunflower_3/\",\"drive/Colab/tulip_4/\"]\n",
        "\n",
        "y=0\n",
        "data = []\n",
        "labels = []\n",
        "radius = 11\n",
        "no_points =24\n",
        "image_path_list_train=[]\n",
        "yt=[]\n",
        "train_y=np.array([])\n",
        "valid_image_extensions = [\".jpg\", \".jpeg\", \".png\"]\n",
        "valid_image_extensions = [item.lower() for item in valid_image_extensions]\n",
        "for f in range(len(imageDir_train)): \n",
        "\n",
        " for file in os.listdir(imageDir_train[f]):    \n",
        "    extension = os.path.splitext(file)[1]\n",
        "    if extension.lower() not in valid_image_extensions:\n",
        "        continue\n",
        "    image_path_list_train.append(os.path.join(imageDir_train[f], file))\n",
        "    \n",
        "    \n",
        "random.shuffle(image_path_list_train)\n",
        "for imagePath in image_path_list_train:\n",
        "   \n",
        "   i= cv2.imread(imagePath)\n",
        "   gray = cv2.cvtColor(i,cv2.COLOR_BGR2GRAY)\n",
        "   res = cv2.resize(gray, dsize=(320, 230), interpolation=cv2.INTER_CUBIC)\n",
        "   lbp = local_binary_pattern(res, no_points, radius, method='uniform')\n",
        "   x = itemfreq(lbp.ravel())\n",
        "   hist = x[:, 1]/sum(x[:, 1])\n",
        "   data.append(hist)\n",
        "   labels.append(imagePath.split(\"/\")[-2])\n",
        "   y+=1\n",
        "   \n",
        "\n"
      ],
      "execution_count": 0,
      "outputs": []
    },
    {
      "cell_type": "code",
      "metadata": {
        "id": "8Gb7NOn-h36v",
        "colab_type": "code",
        "colab": {}
      },
      "source": [
        "from sklearn.model_selection import train_test_split \n",
        "X_train, X_test, y_train, y_test = train_test_split(data, labels, test_size = 0.10)"
      ],
      "execution_count": 0,
      "outputs": []
    },
    {
      "cell_type": "code",
      "metadata": {
        "id": "fgkza89UUSx6",
        "colab_type": "code",
        "outputId": "582c8d45-dc8e-42b0-80f6-d61ee1285e42",
        "colab": {
          "base_uri": "https://localhost:8080/",
          "height": 85
        }
      },
      "source": [
        "  \n",
        "from sklearn.svm import SVC  \n",
        "model = SVC(C=120, gamma=1,random_state=42)\n",
        "model.fit(X_train, y_train)  "
      ],
      "execution_count": 0,
      "outputs": [
        {
          "output_type": "execute_result",
          "data": {
            "text/plain": [
              "SVC(C=120, cache_size=200, class_weight=None, coef0=0.0,\n",
              "  decision_function_shape='ovr', degree=3, gamma=1, kernel='rbf',\n",
              "  max_iter=-1, probability=False, random_state=42, shrinking=True,\n",
              "  tol=0.001, verbose=False)"
            ]
          },
          "metadata": {
            "tags": []
          },
          "execution_count": 26
        }
      ]
    },
    {
      "cell_type": "code",
      "metadata": {
        "id": "8E58ZO7ei_j2",
        "colab_type": "code",
        "colab": {}
      },
      "source": [
        "y_pred = model.predict(X_test) "
      ],
      "execution_count": 0,
      "outputs": []
    },
    {
      "cell_type": "code",
      "metadata": {
        "id": "SQmUI7ZjjD5q",
        "colab_type": "code",
        "colab": {}
      },
      "source": [
        "from sklearn.metrics import classification_report, confusion_matrix  \n",
        "print(confusion_matrix(y_test,y_pred))  \n",
        "print(classification_report(y_test,y_pred)) "
      ],
      "execution_count": 0,
      "outputs": []
    }
  ]
}